{
  "nbformat": 4,
  "nbformat_minor": 0,
  "metadata": {
    "colab": {
      "provenance": [],
      "authorship_tag": "ABX9TyMY0rf2n3NX4q0dSYFBpKhc",
      "include_colab_link": true
    },
    "kernelspec": {
      "name": "python3",
      "display_name": "Python 3"
    },
    "language_info": {
      "name": "python"
    }
  },
  "cells": [
    {
      "cell_type": "markdown",
      "metadata": {
        "id": "view-in-github",
        "colab_type": "text"
      },
      "source": [
        "<a href=\"https://colab.research.google.com/github/yhotta240/gacha-pull-plan/blob/main/gacha_pull_plan.ipynb\" target=\"_parent\"><img src=\"https://colab.research.google.com/assets/colab-badge.svg\" alt=\"Open In Colab\"/></a>"
      ]
    },
    {
      "cell_type": "code",
      "execution_count": 5,
      "metadata": {
        "id": "RdKZannA-VxT",
        "colab": {
          "base_uri": "https://localhost:8080/"
        },
        "cellView": "form",
        "outputId": "4cd787ff-ba58-4384-f87b-3f822d263636"
      },
      "outputs": [
        {
          "output_type": "stream",
          "name": "stdout",
          "text": [
            "天井まで必要な回数: 60\n",
            "天井まで必要な石の数: 9600\n",
            "所持している石の数: 553\n",
            "所持しているチケットの枚数: 0\n",
            "残りの日数で獲得できる石の数: 840\n",
            "毎日獲得目標とする石の数: 685.7142857142857\n",
            "不足している石の数: 9047\n",
            "追加の石が必要です。\n"
          ]
        }
      ],
      "source": [
        "#@title　実行\n",
        "# 定数\n",
        "STONE_PER_PULL = 160\n",
        "MAX_PULLS = 180\n",
        "SLIP_THROUGH_PULLS = 90\n",
        "\n",
        "# 変数\n",
        "# 残りの日数\n",
        "remaining_days = 14  # @param {type:\"number\"}\n",
        "# 所持している石の数\n",
        "current_stones = 553  # @param {type:\"number\"}\n",
        "# 所持しているチケットの数\n",
        "current_tickets = 0  # @param {type:\"number\"}\n",
        "# すでに引いている回数\n",
        "current_pulls = 30  # @param {type:\"number\"}\n",
        "# すり抜け\n",
        "slip_through = True # @param {type:\"boolean\"}\n",
        "# デイリーミッションを考慮\n",
        "isDaily = False  # @param {type:\"boolean\"}\n",
        "\n",
        "# 次の天井までの残り回数を計算\n",
        "if slip_through:\n",
        "    pulls_needed = MAX_PULLS - SLIP_THROUGH_PULLS - current_pulls\n",
        "else:\n",
        "    pulls_needed = MAX_PULLS - current_pulls\n",
        "\n",
        "# 必要な石の計算\n",
        "stones_needed = pulls_needed * STONE_PER_PULL\n",
        "\n",
        "# 現在の石の計算\n",
        "total_current_stones = current_stones + (current_tickets * STONE_PER_PULL)\n",
        "\n",
        "# 残りの日数で獲得できる石の計算\n",
        "daily_stones = 60\n",
        "total_future_stones = remaining_days * daily_stones\n",
        "\n",
        "# 合計石の計算\n",
        "total_available_stones = total_current_stones + total_future_stones\n",
        "\n",
        "# 不足している石の計算\n",
        "stones_shortfall = stones_needed - total_current_stones\n",
        "if isDaily:\n",
        "    stones_shortfall = stones_needed - total_available_stones\n",
        "\n",
        "# 毎日の石の計算\n",
        "daily_needed_stones = stones_needed / remaining_days\n",
        "\n",
        "# 結果の表示\n",
        "print(f\"天井まで必要な回数: {pulls_needed}\")\n",
        "print(f\"天井まで必要な石の数: {stones_needed}\")\n",
        "print(f\"所持している石の数: {current_stones}\")\n",
        "print(f\"所持しているチケットの枚数: {current_tickets}\")\n",
        "print(f\"残りの日数で獲得できる石の数: {total_future_stones}\")\n",
        "print(f\"毎日獲得目標とする石の数: {daily_needed_stones}\")\n",
        "\n",
        "if stones_shortfall > 0:\n",
        "    print(f\"不足している石の数: {stones_shortfall}\")\n",
        "    print(\"追加の石が必要です。\")\n",
        "else:\n",
        "    print(\"現在の石と獲得予定の石で目標を達成できます。\")\n",
        "\n"
      ]
    }
  ]
}